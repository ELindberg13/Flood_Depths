{
 "cells": [
  {
   "cell_type": "markdown",
   "metadata": {},
   "source": [
    "# Getting Objects and Boundaries from Images"
   ]
  },
  {
   "cell_type": "code",
   "execution_count": 1,
   "metadata": {},
   "outputs": [],
   "source": [
    "# pip install --upgrade google-cloud-vision\n",
    "#pip install opencv-python"
   ]
  },
  {
   "cell_type": "code",
   "execution_count": 2,
   "metadata": {},
   "outputs": [],
   "source": [
    "import numpy as np\n",
    "import pandas as pd\n",
    "\n",
    "#import OpenCV to annotate images with shapes\n",
    "import cv2\n",
    "\n",
    "# google cloud SDK\n",
    "import io\n",
    "import os\n",
    "\n",
    "# Imports the Google Cloud client library\n",
    "from google.cloud import vision\n",
    "from google.cloud.vision import types"
   ]
  },
  {
   "cell_type": "code",
   "execution_count": 3,
   "metadata": {},
   "outputs": [],
   "source": [
    "# Code Reference From: https://github.com/googleapis/google-cloud-python/issues/5349\n",
    "# need this in order to access API - enter your JSON file in the path after you have created your service account\n",
    "\n",
    "from google.oauth2 import service_account\n",
    "credentials = service_account.Credentials. from_service_account_file(\"C:/Users/Erik/Desktop/flood_project/flooddepths-0158d30f7869.json\")"
   ]
  },
  {
   "cell_type": "markdown",
   "metadata": {},
   "source": [
    "### Path to folder with images"
   ]
  },
  {
   "cell_type": "code",
   "execution_count": 4,
   "metadata": {},
   "outputs": [],
   "source": [
    "# change the path to the current folder where the images that need to be annotated are located\n",
    "path_to_images = 'C:/Users/Erik/Desktop/add_photos/add_flood/'"
   ]
  },
  {
   "cell_type": "markdown",
   "metadata": {},
   "source": [
    "### Path to folder where the cropped photo should go"
   ]
  },
  {
   "cell_type": "code",
   "execution_count": 5,
   "metadata": {},
   "outputs": [],
   "source": [
    "path_to_cropped_images = 'C:/Users/Erik/Desktop/add_photos/cropped_add_flood/'"
   ]
  },
  {
   "cell_type": "markdown",
   "metadata": {},
   "source": [
    "### List of Images"
   ]
  },
  {
   "cell_type": "code",
   "execution_count": 6,
   "metadata": {},
   "outputs": [],
   "source": [
    "# a list of all of my picture filenames that have floods & cars\n",
    "# with help from https://stackoverflow.com/questions/3207219/how-do-i-list-all-files-of-a-directory\n",
    "\n",
    "flood_list = [f for f in os.listdir(path_to_images) if os.path.isfile(os.path.join(path_to_images, f))]"
   ]
  },
  {
   "cell_type": "code",
   "execution_count": 7,
   "metadata": {},
   "outputs": [],
   "source": [
    "objects_to_crop_around = ['Car','Van','Truck','Boat','Toy vehicle']"
   ]
  },
  {
   "cell_type": "markdown",
   "metadata": {},
   "source": [
    "## Cropping images to use in NN"
   ]
  },
  {
   "cell_type": "code",
   "execution_count": 8,
   "metadata": {},
   "outputs": [],
   "source": [
    "def crop_flooded_objects_boundary(file_list):\n",
    "    \n",
    "    file_dict = {}\n",
    "    object_dict = {}\n",
    "    \n",
    "    # creating a tenth and cycle counter to output progress of function\n",
    "    tenth_counter = 0\n",
    "    cycle_counter = 1\n",
    "    \n",
    "    #looping though each image in the list submitted to the function\n",
    "    for file in file_list:\n",
    "    \n",
    "        #need to have google vision credentials saved to credentials\n",
    "        client = vision.ImageAnnotatorClient(credentials=credentials)\n",
    "\n",
    "        # path to the images that need to be cropped\n",
    "        with open(path_to_images + file, 'rb') as image_file:\n",
    "            content = image_file.read()\n",
    "        image = vision.types.Image(content=content)\n",
    "        \n",
    "        #same path just using OpenCV to get image shape and will use to save the cropped images later\n",
    "        im_cv2 = cv2.imread(path_to_images + file)\n",
    "        height, width, color = im_cv2.shape\n",
    "\n",
    "        #Using Google vision to actually find objects in the image\n",
    "        objects = client.object_localization(image=image).localized_object_annotations\n",
    "        \n",
    "        object_list = []\n",
    "        \n",
    "        tenth_counter += 1\n",
    "        \n",
    "        # printing out the fraction of the images done to keep track of function progress\n",
    "        if int(round(len(flood_list),-1)/10) <= tenth_counter:\n",
    "            print(f'{cycle_counter}/10 done')\n",
    "            cycle_counter += 1\n",
    "            tenth_counter = 1\n",
    "        \n",
    "        # creating an item counter to allow the cropping and the saving of multiple same objects from one photo\n",
    "        item_counter = 1\n",
    "        \n",
    "        #looping through each of the objects Google vision found in the image\n",
    "        for object_ in objects:\n",
    "            # ignoring all objects that don't have to do with the cars in the image\n",
    "            if object_.name in objects_to_crop_around:\n",
    "                vertex_dict = {}\n",
    "\n",
    "                #need to make sure the normalized vertex are multipled by the corresponding image distance so the vertex are in pixels counts\n",
    "                for index,vertex in enumerate(object_.bounding_poly.normalized_vertices):\n",
    "                    vertex_dict[f'vertex_{index}'] = [int(width*vertex.x),int(height*vertex.y)]\n",
    "                object_dict[object_.name] = vertex_dict\n",
    "            \n",
    "                # Cropping the image around the vertices of the object\n",
    "                \n",
    "                # https://www.life2coding.com/cropping-polygon-or-non-rectangular-region-from-image-using-opencv-python/\n",
    "                # https://stackoverflow.com/questions/48301186/cropping-concave-polygon-from-image-using-opencv-python\n",
    "                \n",
    "                mask = np.zeros(im_cv2.shape[:2], np.uint8)\n",
    "                points = np.array([object_dict[object_.name]['vertex_0'],\n",
    "                                   object_dict[object_.name]['vertex_1'],\n",
    "                                   object_dict[object_.name]['vertex_2'],\n",
    "                                   object_dict[object_.name]['vertex_3']])\n",
    "            \n",
    "                #creating the bounding rectangle from the object vertices\n",
    "                rect = cv2.boundingRect(points)\n",
    "                x,y,w,h = rect\n",
    "                \n",
    "                # cropping the image using OpenCV and the dimentions of the bounding rectangle\n",
    "                cropped = im_cv2[y:y+h, x:x+w].copy()\n",
    "            \n",
    "                #savig the cropped image using OpenCV. Image name has cropped_(object)_ added to the front\n",
    "                cv2.imwrite(path_to_cropped_images + 'cropped_' + object_.name + str(item_counter) + '_' + file, cropped)\n",
    "                \n",
    "                #adding 1 to the item counter so multiple cars can be cropped and then saved from the same image\n",
    "                item_counter += 1\n",
    "                \n",
    "        file_dict[file] = object_dict\n",
    "        \n",
    "    return file_dict"
   ]
  },
  {
   "cell_type": "code",
   "execution_count": 9,
   "metadata": {},
   "outputs": [
    {
     "name": "stdout",
     "output_type": "stream",
     "text": [
      "1/10 done\n",
      "2/10 done\n",
      "3/10 done\n",
      "4/10 done\n",
      "5/10 done\n",
      "6/10 done\n",
      "7/10 done\n",
      "8/10 done\n",
      "9/10 done\n",
      "10/10 done\n",
      "11/10 done\n"
     ]
    }
   ],
   "source": [
    "#cropping all imaged in the flood_list. Run with a semi colon to suppress the dictionary from showing upon completion\n",
    "object_boundary_dict = crop_flooded_objects_boundary(flood_list)"
   ]
  },
  {
   "cell_type": "markdown",
   "metadata": {},
   "source": [
    "## Function to get just get the object lables and their boundaries"
   ]
  },
  {
   "cell_type": "code",
   "execution_count": 27,
   "metadata": {},
   "outputs": [],
   "source": [
    "# Just gets the objects and their boundaries.\n",
    "def determine_objects_boundary(file_list):\n",
    "    \n",
    "    file_dict = {}\n",
    "    object_dict = {}\n",
    "    \n",
    "    #looping though each image in the list submitted to the function\n",
    "    for file in file_list:\n",
    "    \n",
    "        #need to have google vision credentials saved to credentials\n",
    "        client = vision.ImageAnnotatorClient(credentials=credentials)\n",
    "\n",
    "        # path to the images that need to be cropped\n",
    "#         with open('C:/Users/Erik/Desktop/flood_project/images/' + file, 'rb') as image_file:\n",
    "        with open(path_to_images + file, 'rb') as image_file:\n",
    "            content = image_file.read()\n",
    "        image = vision.types.Image(content=content)\n",
    "        \n",
    "        #same path just using OpenCV to get image shape\n",
    "#         im_cv2 = cv2.imread('C:/Users/Erik/Desktop/flood_project/images/' + file)\n",
    "        im_cv2 = cv2.imread(path_to_images + file)\n",
    "        height, width, color = im_cv2.shape\n",
    "\n",
    "        #Using Google vision to actually find objects in the image\n",
    "        objects = client.object_localization(image=image).localized_object_annotations\n",
    "        \n",
    "        object_list = []\n",
    "        \n",
    "        #for each object in the image, find the 4 corners of the bounding rectangle and save them in a dict\n",
    "        for object_ in objects:\n",
    "            vertex_dict = {}\n",
    "\n",
    "            #need to make sure the normalized vertex are multipled by the corresponding image distance so the vertex are in pixels counts\n",
    "            for index,vertex in enumerate(object_.bounding_poly.normalized_vertices):\n",
    "                vertex_dict[f'vertex_{index}'] = [int(width*vertex.x),int(height*vertex.y)]\n",
    "            object_dict[object_.name] = vertex_dict\n",
    "            \n",
    "        file_dict[file] = object_dict\n",
    "\n",
    "            \n",
    "    return file_dict"
   ]
  },
  {
   "cell_type": "code",
   "execution_count": null,
   "metadata": {},
   "outputs": [],
   "source": []
  }
 ],
 "metadata": {
  "kernelspec": {
   "display_name": "Python 3",
   "language": "python",
   "name": "python3"
  },
  "language_info": {
   "codemirror_mode": {
    "name": "ipython",
    "version": 3
   },
   "file_extension": ".py",
   "mimetype": "text/x-python",
   "name": "python",
   "nbconvert_exporter": "python",
   "pygments_lexer": "ipython3",
   "version": "3.7.7"
  }
 },
 "nbformat": 4,
 "nbformat_minor": 4
}
