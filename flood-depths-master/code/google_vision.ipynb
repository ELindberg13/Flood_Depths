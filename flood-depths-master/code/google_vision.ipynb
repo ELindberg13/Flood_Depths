{
 "cells": [
  {
   "cell_type": "markdown",
   "metadata": {},
   "source": [
    "# LABEL DETECTION\n",
    "- Within this notebook we will use the Google Vision API to scan image files\n",
    "- Once each image is scanned it will return 10 labels for each image that are key words that describe what is in the picture\n",
    "- Prior to feeding the Google Vision API the images, the images must be separated into **Flood** and **No Flood** directories\n",
    "- [Google Vision](https://cloud.google.com/vision): Follow this link to install the Google Vision SDK"
   ]
  },
  {
   "cell_type": "code",
   "execution_count": 4,
   "metadata": {},
   "outputs": [],
   "source": [
    "# Install & Upgrade Google Vision API\n",
    "# pip install --upgrade google-cloud-vision"
   ]
  },
  {
   "cell_type": "code",
   "execution_count": 5,
   "metadata": {},
   "outputs": [],
   "source": [
    "# import libraries\n",
    "\n",
    "import numpy as np\n",
    "import pandas as pd\n",
    "import matplotlib.pyplot as plt\n",
    "import seaborn as sns\n",
    "\n",
    "import io\n",
    "import os\n",
    "\n",
    "from google.cloud import vision\n",
    "from google.cloud.vision import types\n",
    "from google.oauth2 import service_account # https://github.com/googleapis/google-cloud-python/issues/5349 - need this in order access API\n",
    "                                          # enter your JSON file in the path after you have created your service account\n",
    "from sklearn.pipeline import Pipeline\n",
    "from sklearn.feature_extraction.text import CountVectorizer\n",
    "from sklearn.model_selection import train_test_split, cross_val_score, GridSearchCV\n",
    "from sklearn.linear_model import LogisticRegression\n",
    "from sklearn.naive_bayes import MultinomialNB # , GaussianNB\n",
    "from sklearn.svm import LinearSVC\n",
    "from sklearn.metrics import confusion_matrix, plot_confusion_matrix\n",
    "# from sklearn.ensemble import VotingClassifier\n",
    "# from sklearn.preprocessing import OneHotEncoder\n",
    "# from sklearn.naive_bayes import GaussianNB"
   ]
  },
  {
   "cell_type": "markdown",
   "metadata": {},
   "source": [
    "## Google API Credentials"
   ]
  },
  {
   "cell_type": "code",
   "execution_count": 6,
   "metadata": {},
   "outputs": [],
   "source": [
    "# Set your Google API credentials_path to a variable\n",
    "credentials_path = \"./flood-car-classifier-3de49495f20b.json\"\n",
    "\n",
    "# Set up credentials variable to communicate with your service account\n",
    "credentials = service_account.Credentials. from_service_account_file(credentials_path)"
   ]
  },
  {
   "cell_type": "markdown",
   "metadata": {},
   "source": [
    "## Image Directory Path Setup"
   ]
  },
  {
   "cell_type": "code",
   "execution_count": 22,
   "metadata": {},
   "outputs": [],
   "source": [
    "# Set up the flooded and non flooded image directory\n",
    "flood_directory_path = './data/images_for_labeling/flood/'\n",
    "noflood_directory_path = './data/images_for_labeling/noflood/'"
   ]
  },
  {
   "cell_type": "code",
   "execution_count": 23,
   "metadata": {},
   "outputs": [],
   "source": [
    "flood = []\n",
    "for i in os.listdir(flood_directory_path):\n",
    "    if i == '.DS_Store' or i == '.ipynb_checkpoints':\n",
    "        pass\n",
    "    else:\n",
    "        flood.append(i)\n",
    "        \n",
    "noflood = []\n",
    "for i in os.listdir(noflood_directory_path):\n",
    "    if i == '.DS_Store' or i == '.ipynb_checkpoints':\n",
    "        pass\n",
    "    else:\n",
    "        noflood.append(i)"
   ]
  },
  {
   "cell_type": "code",
   "execution_count": 24,
   "metadata": {},
   "outputs": [
    {
     "name": "stdout",
     "output_type": "stream",
     "text": [
      "['flood_64.jpg', 'flood_70.jpg', 'flood_58.jpg', 'flood_103.jpg', 'flood_117.jpg']\n",
      "\n",
      "['no_flood_94.jpg', 'no_flood_102.jpg', 'no_flood_80.jpg', 'no_flood_57.jpg', 'no_flood_43.jpg']\n"
     ]
    }
   ],
   "source": [
    "# preview flood lists for labeling function\n",
    "print(flood[0:5])\n",
    "print()\n",
    "print(noflood[0:5])\n"
   ]
  },
  {
   "cell_type": "markdown",
   "metadata": {},
   "source": [
    "## Label Detection Function"
   ]
  },
  {
   "cell_type": "code",
   "execution_count": 27,
   "metadata": {},
   "outputs": [],
   "source": [
    "# formula inspired by https://cloud.google.com/vision/docs/labels\n",
    "\n",
    "# PARAMETER 'list_name' - this should be 'flood' or 'noflood' variable\n",
    "# PARAMETER 'image_directory_path' - this should be 'flood_directory_path' or 'noflood_directory_path' variable\n",
    "\n",
    "def image_labeler(list_name, image_directory_path):\n",
    "    \n",
    "    # Create dictionary for image filename & image labels\n",
    "    image_dict = {}\n",
    "    \n",
    "    for file in list_name:\n",
    "    \n",
    "        # Instantiates a client\n",
    "        client = vision.ImageAnnotatorClient(credentials=credentials)\n",
    "\n",
    "        # The name of the image file to annotate\n",
    "        file_name = os.path.abspath(image_directory_path + file)\n",
    "\n",
    "        # Loads the image into memory\n",
    "        with io.open(file_name, 'rb') as image_file:\n",
    "            content = image_file.read()\n",
    "\n",
    "        image = types.Image(content=content)\n",
    "\n",
    "        # Performs label detection on the image file\n",
    "        response = client.label_detection(image=image)\n",
    "        labels = response.label_annotations\n",
    "        \n",
    "        # Create list of image labels\n",
    "        image_list = []\n",
    "        \n",
    "        # Loop through each images assigned labels\n",
    "        for label in labels:\n",
    "            image_list.append(label.description)\n",
    "        \n",
    "        # Add image filename & labels to dictionary\n",
    "        image_dict[flood_directory_path + file] = image_list\n",
    "        \n",
    "        # Create DF from results\n",
    "        image_df = pd.DataFrame(image_dict.items(), columns=['filename', 'labels'])\n",
    "        image_df['flood_in_image'] = str(list_name)\n",
    "        \n",
    "        # Create Y target Column\n",
    "        if 'noflood' in image_directory_path:\n",
    "            image_df['flood_in_image'] = 0\n",
    "        elif 'flood' in image_directory_path:\n",
    "            image_df['flood_in_image'] = 1\n",
    "        else:\n",
    "            pass\n",
    "        \n",
    "        # Prepare X column for pre-processing\n",
    "        image_df['labels'] = image_df['labels'].apply(lambda x: \", \".join(x).lower())\n",
    "        \n",
    "    return image_df"
   ]
  },
  {
   "cell_type": "markdown",
   "metadata": {},
   "source": [
    "## Create Dataframe"
   ]
  },
  {
   "cell_type": "code",
   "execution_count": 28,
   "metadata": {},
   "outputs": [
    {
     "data": {
      "text/html": [
       "<div>\n",
       "<style scoped>\n",
       "    .dataframe tbody tr th:only-of-type {\n",
       "        vertical-align: middle;\n",
       "    }\n",
       "\n",
       "    .dataframe tbody tr th {\n",
       "        vertical-align: top;\n",
       "    }\n",
       "\n",
       "    .dataframe thead th {\n",
       "        text-align: right;\n",
       "    }\n",
       "</style>\n",
       "<table border=\"1\" class=\"dataframe\">\n",
       "  <thead>\n",
       "    <tr style=\"text-align: right;\">\n",
       "      <th></th>\n",
       "      <th>filename</th>\n",
       "      <th>labels</th>\n",
       "      <th>flood_in_image</th>\n",
       "    </tr>\n",
       "  </thead>\n",
       "  <tbody>\n",
       "    <tr>\n",
       "      <th>0</th>\n",
       "      <td>./data/images_for_labeling/flood/flood_64.jpg</td>\n",
       "      <td>land vehicle, vehicle, car, city car, compact ...</td>\n",
       "      <td>1</td>\n",
       "    </tr>\n",
       "    <tr>\n",
       "      <th>1</th>\n",
       "      <td>./data/images_for_labeling/flood/flood_70.jpg</td>\n",
       "      <td>water, vehicle, reflection, rain, car, puddle,...</td>\n",
       "      <td>1</td>\n",
       "    </tr>\n",
       "    <tr>\n",
       "      <th>2</th>\n",
       "      <td>./data/images_for_labeling/flood/flood_58.jpg</td>\n",
       "      <td>land vehicle, vehicle, car, automotive design,...</td>\n",
       "      <td>1</td>\n",
       "    </tr>\n",
       "    <tr>\n",
       "      <th>3</th>\n",
       "      <td>./data/images_for_labeling/flood/flood_103.jpg</td>\n",
       "      <td>vehicle, car, compact car, supermini, crossove...</td>\n",
       "      <td>1</td>\n",
       "    </tr>\n",
       "    <tr>\n",
       "      <th>4</th>\n",
       "      <td>./data/images_for_labeling/flood/flood_117.jpg</td>\n",
       "      <td>vehicle, car, waterway, flood, water resources...</td>\n",
       "      <td>1</td>\n",
       "    </tr>\n",
       "  </tbody>\n",
       "</table>\n",
       "</div>"
      ],
      "text/plain": [
       "                                         filename  \\\n",
       "0   ./data/images_for_labeling/flood/flood_64.jpg   \n",
       "1   ./data/images_for_labeling/flood/flood_70.jpg   \n",
       "2   ./data/images_for_labeling/flood/flood_58.jpg   \n",
       "3  ./data/images_for_labeling/flood/flood_103.jpg   \n",
       "4  ./data/images_for_labeling/flood/flood_117.jpg   \n",
       "\n",
       "                                              labels  flood_in_image  \n",
       "0  land vehicle, vehicle, car, city car, compact ...               1  \n",
       "1  water, vehicle, reflection, rain, car, puddle,...               1  \n",
       "2  land vehicle, vehicle, car, automotive design,...               1  \n",
       "3  vehicle, car, compact car, supermini, crossove...               1  \n",
       "4  vehicle, car, waterway, flood, water resources...               1  "
      ]
     },
     "execution_count": 28,
     "metadata": {},
     "output_type": "execute_result"
    }
   ],
   "source": [
    "# Create FLOOD df by running the function and saving to a variable\n",
    "flood_df = image_labeler(flood, flood_directory_path)\n",
    "flood_df.head()"
   ]
  },
  {
   "cell_type": "code",
   "execution_count": 29,
   "metadata": {},
   "outputs": [
    {
     "data": {
      "text/html": [
       "<div>\n",
       "<style scoped>\n",
       "    .dataframe tbody tr th:only-of-type {\n",
       "        vertical-align: middle;\n",
       "    }\n",
       "\n",
       "    .dataframe tbody tr th {\n",
       "        vertical-align: top;\n",
       "    }\n",
       "\n",
       "    .dataframe thead th {\n",
       "        text-align: right;\n",
       "    }\n",
       "</style>\n",
       "<table border=\"1\" class=\"dataframe\">\n",
       "  <thead>\n",
       "    <tr style=\"text-align: right;\">\n",
       "      <th></th>\n",
       "      <th>filename</th>\n",
       "      <th>labels</th>\n",
       "      <th>flood_in_image</th>\n",
       "    </tr>\n",
       "  </thead>\n",
       "  <tbody>\n",
       "    <tr>\n",
       "      <th>0</th>\n",
       "      <td>./data/images_for_labeling/flood/no_flood_94.jpg</td>\n",
       "      <td>land vehicle, vehicle, car, luxury vehicle, au...</td>\n",
       "      <td>0</td>\n",
       "    </tr>\n",
       "    <tr>\n",
       "      <th>1</th>\n",
       "      <td>./data/images_for_labeling/flood/no_flood_102.jpg</td>\n",
       "      <td>land vehicle, vehicle, car, motor vehicle, aut...</td>\n",
       "      <td>0</td>\n",
       "    </tr>\n",
       "    <tr>\n",
       "      <th>2</th>\n",
       "      <td>./data/images_for_labeling/flood/no_flood_80.jpg</td>\n",
       "      <td>land vehicle, vehicle, car, motor vehicle, min...</td>\n",
       "      <td>0</td>\n",
       "    </tr>\n",
       "    <tr>\n",
       "      <th>3</th>\n",
       "      <td>./data/images_for_labeling/flood/no_flood_57.jpg</td>\n",
       "      <td>land vehicle, vehicle, car, motor vehicle, aut...</td>\n",
       "      <td>0</td>\n",
       "    </tr>\n",
       "    <tr>\n",
       "      <th>4</th>\n",
       "      <td>./data/images_for_labeling/flood/no_flood_43.jpg</td>\n",
       "      <td>land vehicle, vehicle, tire, car, automotive t...</td>\n",
       "      <td>0</td>\n",
       "    </tr>\n",
       "  </tbody>\n",
       "</table>\n",
       "</div>"
      ],
      "text/plain": [
       "                                            filename  \\\n",
       "0   ./data/images_for_labeling/flood/no_flood_94.jpg   \n",
       "1  ./data/images_for_labeling/flood/no_flood_102.jpg   \n",
       "2   ./data/images_for_labeling/flood/no_flood_80.jpg   \n",
       "3   ./data/images_for_labeling/flood/no_flood_57.jpg   \n",
       "4   ./data/images_for_labeling/flood/no_flood_43.jpg   \n",
       "\n",
       "                                              labels  flood_in_image  \n",
       "0  land vehicle, vehicle, car, luxury vehicle, au...               0  \n",
       "1  land vehicle, vehicle, car, motor vehicle, aut...               0  \n",
       "2  land vehicle, vehicle, car, motor vehicle, min...               0  \n",
       "3  land vehicle, vehicle, car, motor vehicle, aut...               0  \n",
       "4  land vehicle, vehicle, tire, car, automotive t...               0  "
      ]
     },
     "execution_count": 29,
     "metadata": {},
     "output_type": "execute_result"
    }
   ],
   "source": [
    "# Create NO FLOOD df by running the function and saving to a variable\n",
    "noflood_df = image_labeler(noflood, noflood_directory_path)\n",
    "noflood_df.head()"
   ]
  },
  {
   "cell_type": "code",
   "execution_count": 30,
   "metadata": {},
   "outputs": [],
   "source": [
    "# Quick DF concatenation function\n",
    "def combine_df(dataframe1, dataframe2):\n",
    "    df = pd.concat([dataframe1, dataframe2], axis=0).reset_index().drop(columns='index')\n",
    "    return df"
   ]
  },
  {
   "cell_type": "code",
   "execution_count": 31,
   "metadata": {},
   "outputs": [
    {
     "name": "stdout",
     "output_type": "stream",
     "text": [
      "(229, 3)\n"
     ]
    },
    {
     "data": {
      "text/html": [
       "<div>\n",
       "<style scoped>\n",
       "    .dataframe tbody tr th:only-of-type {\n",
       "        vertical-align: middle;\n",
       "    }\n",
       "\n",
       "    .dataframe tbody tr th {\n",
       "        vertical-align: top;\n",
       "    }\n",
       "\n",
       "    .dataframe thead th {\n",
       "        text-align: right;\n",
       "    }\n",
       "</style>\n",
       "<table border=\"1\" class=\"dataframe\">\n",
       "  <thead>\n",
       "    <tr style=\"text-align: right;\">\n",
       "      <th></th>\n",
       "      <th>filename</th>\n",
       "      <th>labels</th>\n",
       "      <th>flood_in_image</th>\n",
       "    </tr>\n",
       "  </thead>\n",
       "  <tbody>\n",
       "    <tr>\n",
       "      <th>0</th>\n",
       "      <td>./data/images_for_labeling/flood/flood_64.jpg</td>\n",
       "      <td>land vehicle, vehicle, car, city car, compact ...</td>\n",
       "      <td>1</td>\n",
       "    </tr>\n",
       "    <tr>\n",
       "      <th>1</th>\n",
       "      <td>./data/images_for_labeling/flood/flood_70.jpg</td>\n",
       "      <td>water, vehicle, reflection, rain, car, puddle,...</td>\n",
       "      <td>1</td>\n",
       "    </tr>\n",
       "    <tr>\n",
       "      <th>2</th>\n",
       "      <td>./data/images_for_labeling/flood/flood_58.jpg</td>\n",
       "      <td>land vehicle, vehicle, car, automotive design,...</td>\n",
       "      <td>1</td>\n",
       "    </tr>\n",
       "    <tr>\n",
       "      <th>3</th>\n",
       "      <td>./data/images_for_labeling/flood/flood_103.jpg</td>\n",
       "      <td>vehicle, car, compact car, supermini, crossove...</td>\n",
       "      <td>1</td>\n",
       "    </tr>\n",
       "    <tr>\n",
       "      <th>4</th>\n",
       "      <td>./data/images_for_labeling/flood/flood_117.jpg</td>\n",
       "      <td>vehicle, car, waterway, flood, water resources...</td>\n",
       "      <td>1</td>\n",
       "    </tr>\n",
       "  </tbody>\n",
       "</table>\n",
       "</div>"
      ],
      "text/plain": [
       "                                         filename  \\\n",
       "0   ./data/images_for_labeling/flood/flood_64.jpg   \n",
       "1   ./data/images_for_labeling/flood/flood_70.jpg   \n",
       "2   ./data/images_for_labeling/flood/flood_58.jpg   \n",
       "3  ./data/images_for_labeling/flood/flood_103.jpg   \n",
       "4  ./data/images_for_labeling/flood/flood_117.jpg   \n",
       "\n",
       "                                              labels  flood_in_image  \n",
       "0  land vehicle, vehicle, car, city car, compact ...               1  \n",
       "1  water, vehicle, reflection, rain, car, puddle,...               1  \n",
       "2  land vehicle, vehicle, car, automotive design,...               1  \n",
       "3  vehicle, car, compact car, supermini, crossove...               1  \n",
       "4  vehicle, car, waterway, flood, water resources...               1  "
      ]
     },
     "execution_count": 31,
     "metadata": {},
     "output_type": "execute_result"
    }
   ],
   "source": [
    "# Combine FLOOD & NO FLOOD dataframe into one DF\n",
    "df = combine_df(flood_df, noflood_df)\n",
    "print(df.shape)\n",
    "df.head()"
   ]
  },
  {
   "cell_type": "code",
   "execution_count": 32,
   "metadata": {},
   "outputs": [
    {
     "name": "stdout",
     "output_type": "stream",
     "text": [
      "(229, 3)\n"
     ]
    },
    {
     "data": {
      "text/html": [
       "<div>\n",
       "<style scoped>\n",
       "    .dataframe tbody tr th:only-of-type {\n",
       "        vertical-align: middle;\n",
       "    }\n",
       "\n",
       "    .dataframe tbody tr th {\n",
       "        vertical-align: top;\n",
       "    }\n",
       "\n",
       "    .dataframe thead th {\n",
       "        text-align: right;\n",
       "    }\n",
       "</style>\n",
       "<table border=\"1\" class=\"dataframe\">\n",
       "  <thead>\n",
       "    <tr style=\"text-align: right;\">\n",
       "      <th></th>\n",
       "      <th>filename</th>\n",
       "      <th>labels</th>\n",
       "      <th>flood_in_image</th>\n",
       "    </tr>\n",
       "  </thead>\n",
       "  <tbody>\n",
       "    <tr>\n",
       "      <th>0</th>\n",
       "      <td>./data/images_for_labeling/flood/flood_64.jpg</td>\n",
       "      <td>land vehicle, vehicle, car, city car, compact ...</td>\n",
       "      <td>1</td>\n",
       "    </tr>\n",
       "    <tr>\n",
       "      <th>1</th>\n",
       "      <td>./data/images_for_labeling/flood/flood_70.jpg</td>\n",
       "      <td>water, vehicle, reflection, rain, car, puddle,...</td>\n",
       "      <td>1</td>\n",
       "    </tr>\n",
       "    <tr>\n",
       "      <th>2</th>\n",
       "      <td>./data/images_for_labeling/flood/flood_58.jpg</td>\n",
       "      <td>land vehicle, vehicle, car, automotive design,...</td>\n",
       "      <td>1</td>\n",
       "    </tr>\n",
       "    <tr>\n",
       "      <th>3</th>\n",
       "      <td>./data/images_for_labeling/flood/flood_103.jpg</td>\n",
       "      <td>vehicle, car, compact car, supermini, crossove...</td>\n",
       "      <td>1</td>\n",
       "    </tr>\n",
       "    <tr>\n",
       "      <th>4</th>\n",
       "      <td>./data/images_for_labeling/flood/flood_117.jpg</td>\n",
       "      <td>vehicle, car, waterway, flood, water resources...</td>\n",
       "      <td>1</td>\n",
       "    </tr>\n",
       "  </tbody>\n",
       "</table>\n",
       "</div>"
      ],
      "text/plain": [
       "                                         filename  \\\n",
       "0   ./data/images_for_labeling/flood/flood_64.jpg   \n",
       "1   ./data/images_for_labeling/flood/flood_70.jpg   \n",
       "2   ./data/images_for_labeling/flood/flood_58.jpg   \n",
       "3  ./data/images_for_labeling/flood/flood_103.jpg   \n",
       "4  ./data/images_for_labeling/flood/flood_117.jpg   \n",
       "\n",
       "                                              labels  flood_in_image  \n",
       "0  land vehicle, vehicle, car, city car, compact ...               1  \n",
       "1  water, vehicle, reflection, rain, car, puddle,...               1  \n",
       "2  land vehicle, vehicle, car, automotive design,...               1  \n",
       "3  vehicle, car, compact car, supermini, crossove...               1  \n",
       "4  vehicle, car, waterway, flood, water resources...               1  "
      ]
     },
     "execution_count": 32,
     "metadata": {},
     "output_type": "execute_result"
    }
   ],
   "source": [
    "# Save Dataframe\n",
    "df.to_csv('./data/step_1_data.csv')\n",
    "print(df.shape)\n",
    "df.head()"
   ]
  },
  {
   "cell_type": "markdown",
   "metadata": {},
   "source": [
    "### Which Model Should I Use?\n",
    "<img src=\"https://scikit-learn.org/stable/_static/ml_map.png\" style=\"float: ; margin: 160px; height: 440px\">"
   ]
  },
  {
   "cell_type": "markdown",
   "metadata": {},
   "source": [
    "## Modeling"
   ]
  },
  {
   "cell_type": "code",
   "execution_count": 34,
   "metadata": {},
   "outputs": [],
   "source": [
    "# Set up X & y variable\n",
    "X = df.labels\n",
    "y = df.flood_in_image\n",
    "\n",
    "# Train/Test/Split\n",
    "X_train, X_test, y_train, y_test = train_test_split(X, y, stratify=y, random_state=2020)\n",
    "\n",
    "# Transformer Setup & fit\n",
    "cv = CountVectorizer()\n",
    "cv.fit(X_train)\n",
    "\n",
    "# Transform Data\n",
    "Z_train = cv.transform(X_train)\n",
    "Z_test = cv.transform(X_test)"
   ]
  },
  {
   "cell_type": "code",
   "execution_count": 35,
   "metadata": {},
   "outputs": [
    {
     "name": "stdout",
     "output_type": "stream",
     "text": [
      "Cross Validation Score: 0.8769747899159663\n",
      "Training Score: 0.9707602339181286\n",
      "Testing Score: 0.8103448275862069\n"
     ]
    }
   ],
   "source": [
    "# Logistic Regression\n",
    "logreg = LogisticRegression()\n",
    "logreg.fit(Z_train, y_train)\n",
    "\n",
    "print(f'Cross Validation Score: {cross_val_score(LogisticRegression(), Z_train, y_train, cv=5).mean()}')\n",
    "print(f'Training Score: {logreg.score(Z_train, y_train)}')\n",
    "print(f'Testing Score: {logreg.score(Z_test, y_test)}')"
   ]
  },
  {
   "cell_type": "code",
   "execution_count": 36,
   "metadata": {},
   "outputs": [
    {
     "name": "stdout",
     "output_type": "stream",
     "text": [
      "Cross Validation Score: 0.8539495798319328\n",
      "Training Score: 1.0\n",
      "Testing Score: 0.7586206896551724\n"
     ]
    }
   ],
   "source": [
    "# LinearSVC\n",
    "svc = LinearSVC()\n",
    "svc.fit(Z_train, y_train)\n",
    "\n",
    "print(f'Cross Validation Score: {cross_val_score(LinearSVC(), Z_train, y_train, cv=5).mean()}')\n",
    "print(f'Training Score: {svc.score(Z_train, y_train)}')\n",
    "print(f'Testing Score: {svc.score(Z_test, y_test)}')"
   ]
  },
  {
   "cell_type": "code",
   "execution_count": 37,
   "metadata": {},
   "outputs": [
    {
     "name": "stdout",
     "output_type": "stream",
     "text": [
      "Cross Validation Score: 0.8536134453781511\n",
      "Training Score: 0.8947368421052632\n",
      "Testing Score: 0.8793103448275862\n"
     ]
    }
   ],
   "source": [
    "# MultinomialNB\n",
    "mnb = MultinomialNB()\n",
    "mnb.fit(Z_train, y_train)\n",
    "\n",
    "print(f'Cross Validation Score: {cross_val_score(MultinomialNB(), Z_train, y_train, cv=5).mean()}')\n",
    "print(f'Training Score: {mnb.score(Z_train, y_train)}')\n",
    "print(f'Testing Score: {mnb.score(Z_test, y_test)}')"
   ]
  },
  {
   "cell_type": "code",
   "execution_count": 45,
   "metadata": {},
   "outputs": [
    {
     "name": "stdout",
     "output_type": "stream",
     "text": [
      "Baseline Metric to beat: 54.15%\n"
     ]
    },
    {
     "data": {
      "text/plain": [
       "1    0.541485\n",
       "0    0.458515\n",
       "Name: flood_in_image, dtype: float64"
      ]
     },
     "execution_count": 45,
     "metadata": {},
     "output_type": "execute_result"
    }
   ],
   "source": [
    "# Baseline Score\n",
    "print(f'Baseline Metric to beat: {round(df.flood_in_image.value_counts(normalize=True)[1], 4)*100}%')\n",
    "df.flood_in_image.value_counts(normalize=True)"
   ]
  },
  {
   "cell_type": "code",
   "execution_count": 46,
   "metadata": {},
   "outputs": [
    {
     "data": {
      "text/plain": [
       "array([0, 0, 0, 1, 0, 0, 0, 1, 0, 1, 1, 1, 1, 0, 0, 1, 0, 1, 1, 1, 0, 0,\n",
       "       1, 1, 0, 0, 1, 0, 1, 0, 0, 0, 0, 1, 0, 1, 1, 0, 1, 0, 1, 1, 0, 1,\n",
       "       1, 0, 0, 0, 0, 0, 1, 1, 1, 1, 0, 0, 0, 0])"
      ]
     },
     "execution_count": 46,
     "metadata": {},
     "output_type": "execute_result"
    }
   ],
   "source": [
    "# Model Predictions on Test Data\n",
    "y_pred = mnb.predict(Z_test)\n",
    "y_pred"
   ]
  },
  {
   "cell_type": "markdown",
   "metadata": {},
   "source": [
    "## Visualize and Interpret Results"
   ]
  },
  {
   "cell_type": "code",
   "execution_count": 78,
   "metadata": {},
   "outputs": [
    {
     "name": "stdout",
     "output_type": "stream",
     "text": [
      "-----------------False------------------\n",
      "(0,0) True Negative - 26\n",
      "(0,1) False Positive - 1\n",
      "------------------True------------------\n",
      "(1,0) False Negative - 6\n",
      "(1,1) True Positive - 25\n",
      "\n",
      "Accuracy: 87.931% - (1) Correct Predictions / ALL predictions\n",
      "---------------------------------------------------------------------------------------\n",
      "Specificity: 96.2963% - (0) Correctly Predicted NO FLOODING / ALL NO FLOODING images\n",
      "---------------------------------------------------------------------------------------\n",
      "Sensitivity: 80.6452% - (1) Correctly Predicted FLOODING / ALL FLOODING images\n",
      "---------------------------------------------------------------------------------------\n",
      "Precision: 96.1538% - (1) Correctly Predicted FLOODING / ALL FLOODING predictions\n",
      "---------------------------------------------------------------------------------------\n"
     ]
    },
    {
     "data": {
      "image/png": "[encoded data removed]",
      "text/plain": [
       "<Figure size 432x288 with 2 Axes>"
      ]
     },
     "metadata": {
      "needs_background": "light"
     },
     "output_type": "display_data"
    }
   ],
   "source": [
    "# Confusion Matrix\n",
    "tn, fp, fn, tp = confusion_matrix(y_test, y_pred).ravel()\n",
    "\n",
    "# Plot\n",
    "plot_confusion_matrix(mnb, Z_test, y_test, cmap='Oranges', values_format='d');\n",
    "plt.xlabel('Predicted: True or False - Car is flooded')\n",
    "plt.ylabel('Actual: True or False - Car is flooded');\n",
    "\n",
    "# For easy consumption\n",
    "print('False'.center(40, \"-\"))\n",
    "print(f'(0,0) True Negative - {tn}')\n",
    "print(f'(0,1) False Positive - {fp}')\n",
    "print('True'.center(40, \"-\"))\n",
    "print(f'(1,0) False Negative - {fn}')\n",
    "print(f'(1,1) True Positive - {tp}')\n",
    "print()\n",
    "\n",
    "# Model Prediction\n",
    "accu = (tn + tp) / (tn + tp + fn + fp)\n",
    "print(f'Accuracy: {round(accu * 100, 4)}% - (1) Correct Predictions / ALL predictions')\n",
    "print('---------------------------------------------------------------------------------------')\n",
    "\n",
    "# Calculate the specificity\n",
    "spec = tn / (tn + fp)\n",
    "print(f'Specificity: {round(spec * 100, 4)}% - (0) Correctly Predicted NO FLOODING / ALL NO FLOODING images')\n",
    "print('---------------------------------------------------------------------------------------')\n",
    "\n",
    "# Sensitivity\n",
    "sens = tp / (tp + fn)\n",
    "print(F'Sensitivity: {round(sens * 100, 4)}% - (1) Correctly Predicted FLOODING / ALL FLOODING images')\n",
    "print('---------------------------------------------------------------------------------------')\n",
    "\n",
    "# Precision\n",
    "prec = tp / (tp + fp)\n",
    "print(f'Precision: {round(prec * 100, 4)}% - (1) Correctly Predicted FLOODING / ALL FLOODING predictions')\n",
    "print('---------------------------------------------------------------------------------------')"
   ]
  },
  {
   "cell_type": "markdown",
   "metadata": {},
   "source": [
    "### Interpreting Results\n",
    "- We were able to determine if the image contained flooding or no flooding with 87.9% accuracy leveraging a Multinomial Naive Bayes model\n",
    "- With specificity coming in at 80.6% we hope to minimize FALSE NEGATIVES in order to ensure we do not miss any floods where the insurance company should be involved.\n"
   ]
  },
  {
   "cell_type": "markdown",
   "metadata": {},
   "source": [
    "# Next Steps"
   ]
  },
  {
   "cell_type": "code",
   "execution_count": 103,
   "metadata": {},
   "outputs": [],
   "source": [
    "# Append precictions to Dataframe and save list of flooded images to new directory"
   ]
  },
  {
   "cell_type": "code",
   "execution_count": null,
   "metadata": {},
   "outputs": [],
   "source": []
  },
  {
   "cell_type": "code",
   "execution_count": null,
   "metadata": {},
   "outputs": [],
   "source": []
  },
  {
   "cell_type": "code",
   "execution_count": null,
   "metadata": {},
   "outputs": [],
   "source": []
  },
  {
   "cell_type": "code",
   "execution_count": null,
   "metadata": {},
   "outputs": [],
   "source": []
  },
  {
   "cell_type": "code",
   "execution_count": null,
   "metadata": {},
   "outputs": [],
   "source": []
  },
  {
   "cell_type": "code",
   "execution_count": null,
   "metadata": {},
   "outputs": [],
   "source": []
  },
  {
   "cell_type": "code",
   "execution_count": null,
   "metadata": {},
   "outputs": [],
   "source": []
  },
  {
   "cell_type": "code",
   "execution_count": null,
   "metadata": {},
   "outputs": [],
   "source": []
  },
  {
   "cell_type": "code",
   "execution_count": 209,
   "metadata": {},
   "outputs": [],
   "source": [
    "# # Set Up Pipes\n",
    "# lr_pipe = Pipeline([\n",
    "#     ('cv', CountVectorizer()),\n",
    "#     ('logreg', LogisticRegression(solver='liblinear', random_state=2020)),\n",
    "# ])\n",
    "\n",
    "# mnb_pipe = Pipeline([\n",
    "#     ('cv', CountVectorizer()),\n",
    "#     ('mnb', MultinomialNB()),\n",
    "# ])\n",
    "# svc_pipe = Pipeline([\n",
    "#     ('cv', CountVectorizer()),\n",
    "#     ('svc', LinearSVC(random_state=2020)),\n",
    "# ])"
   ]
  },
  {
   "cell_type": "code",
   "execution_count": null,
   "metadata": {},
   "outputs": [],
   "source": []
  },
  {
   "cell_type": "code",
   "execution_count": 210,
   "metadata": {},
   "outputs": [],
   "source": [
    "# # Set Up Params\n",
    "# lr_pipe.get_params()\n",
    "# lr_pipe_params = {\n",
    "#     'cv__max_df': [1.0],\n",
    "#     'cv__max_features': [None],\n",
    "#     'cv__min_df': [1],\n",
    "#     'cv__ngram_range': [(1, 1)],\n",
    "#     'logreg__C': [1.0],\n",
    "#     'logreg__class_weight': [None],\n",
    "#     'logreg__max_iter': [100],\n",
    "# #     'logreg__solver': ['lbfgs'],  \n",
    "# }\n",
    "\n",
    "# mnb_pipe.get_params()\n",
    "# mnb_pipe_params = {\n",
    "#     'cv__max_df': [1.0],\n",
    "#     'cv__max_features': [None],\n",
    "#     'cv__min_df': [1],\n",
    "#     'cv__ngram_range': [(1, 1)],\n",
    "#     'mnb__alpha': [1.0, 0.1, 0.01, .0001],\n",
    "# }\n",
    "\n",
    "# svc_pipe.get_params()\n",
    "# svc_pipe_params = {\n",
    "#     'cv__max_df': [1.0],\n",
    "#     'cv__max_features': [None],\n",
    "#     'cv__min_df': [1],\n",
    "#     'cv__ngram_range': [(1, 1)],\n",
    "#     'svc__C': [1.0],\n",
    "#     'svc__class_weight': [None],\n",
    "# }"
   ]
  },
  {
   "cell_type": "code",
   "execution_count": 211,
   "metadata": {},
   "outputs": [],
   "source": [
    "# # gridsearch\n",
    "# # gs_lr = GridSearchCV(lr_pipe, lr_pipe_params, n_jobs = -1, cv = 5, verbose = 2)\n",
    "# # gs_lr.fit(X_train, y_train)\n",
    "\n",
    "# gs_mnb = GridSearchCV(mnb_pipe, mnb_pipe_params, n_jobs = -1, cv = 5, verbose = 2)\n",
    "# gs_mnb.fit(X_train, y_train)\n",
    "\n",
    "# # gs_svc = GridSearchCV(svc_pipe, svc_pipe_params, n_jobs = -1, cv = 5, verbose = 2)\n",
    "# # gs_svc.fit(X_train, y_train)"
   ]
  }
 ],
 "metadata": {
  "kernelspec": {
   "display_name": "Python 3",
   "language": "python",
   "name": "python3"
  },
  "language_info": {
   "codemirror_mode": {
    "name": "ipython",
    "version": 3
   },
   "file_extension": ".py",
   "mimetype": "text/x-python",
   "name": "python",
   "nbconvert_exporter": "python",
   "pygments_lexer": "ipython3",
   "version": "3.7.7"
  }
 },
 "nbformat": 4,
 "nbformat_minor": 4
}
