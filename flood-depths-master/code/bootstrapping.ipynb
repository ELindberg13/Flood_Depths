{
 "cells": [
  {
   "cell_type": "markdown",
   "metadata": {},
   "source": [
    "# Bootstrapping cropped images for training of the cNN"
   ]
  },
  {
   "cell_type": "code",
   "execution_count": 6,
   "metadata": {},
   "outputs": [],
   "source": [
    "import numpy as np\n",
    "import pandas as pd\n",
    "import random\n",
    "\n",
    "#import OpenCV to annotate images with shapes\n",
    "import cv2\n",
    "\n",
    "import os"
   ]
  },
  {
   "cell_type": "markdown",
   "metadata": {},
   "source": [
    "### Path to folder with images"
   ]
  },
  {
   "cell_type": "code",
   "execution_count": 7,
   "metadata": {},
   "outputs": [],
   "source": [
    "# change the path to the current folder where the images that need to be annotated are located\n",
    "path_to_images = 'C:/Users/Erik/Desktop/add_photos/bootstrapping/'"
   ]
  },
  {
   "cell_type": "markdown",
   "metadata": {},
   "source": [
    "## Functions for image augmentation"
   ]
  },
  {
   "cell_type": "code",
   "execution_count": 8,
   "metadata": {},
   "outputs": [],
   "source": [
    "#augmenting images in OpenCV\n",
    "#inspiration from https://towardsdatascience.com/complete-image-augmentation-in-opencv-31a6b02694f5\n",
    "\n",
    "#changing the brighness of the image - \n",
    "def adj_brightness(img, value):\n",
    "\n",
    "    # coverts the image to Hue,saturation,brighness values (h,s,v)\n",
    "    hsv = cv2.cvtColor(img, cv2.COLOR_BGR2HSV)\n",
    "    hsv = np.array(hsv, dtype = np.float64)\n",
    "    \n",
    "    #adjusts the hsv vales by the amount of change specified in the function\n",
    "    hsv[:,:,1] = hsv[:,:,1]*value\n",
    "    \n",
    "    # catches the max and sets to 255\n",
    "    hsv[:,:,1][hsv[:,:,1]>255]  = 255\n",
    "    hsv[:,:,2] = hsv[:,:,2]*value \n",
    "    hsv[:,:,2][hsv[:,:,2]>255]  = 255\n",
    "    hsv = np.array(hsv, dtype = np.uint8)\n",
    "    \n",
    "    #taking the new hsv values and changing it back to Red,Green,Blue image\n",
    "    img = cv2.cvtColor(hsv, cv2.COLOR_HSV2BGR)\n",
    "    return img\n",
    "\n",
    "# Flipping the image horizontally\n",
    "def flip_horizontal(img):\n",
    "    return cv2.flip(img , 1)\n",
    "\n",
    "#inverting the color of the image\n",
    "def invert(img):\n",
    "    return cv2.bitwise_not(img)"
   ]
  },
  {
   "cell_type": "markdown",
   "metadata": {},
   "source": [
    "## Function to augment all images in folders in a main directory"
   ]
  },
  {
   "cell_type": "code",
   "execution_count": 9,
   "metadata": {},
   "outputs": [],
   "source": [
    "# define a path to the main directory which houses the folders with images that need to be augmented\n",
    "def category_cropped_images_augmentation(path):\n",
    "    \n",
    "    #looping through the folders in the main directory\n",
    "    for category in os.listdir(path):\n",
    "        image_to_augment_list = [f for f in os.listdir(path + category + '/') if os.path.isfile(os.path.join(path + category + '/', f))]\n",
    "        \n",
    "        #looping through the image files in each directory\n",
    "        for file in image_to_augment_list:\n",
    "            imported_image = cv2.imread(path + category + '/' + file)\n",
    "            \n",
    "            # increasing the brighness of the image by an order of 2\n",
    "            bright_img = adj_brightness(imported_image, 2)\n",
    "            \n",
    "            #flipping the image horizontally\n",
    "            flip_img = flip_horizontal(imported_image)\n",
    "            \n",
    "            #inverting the image colors\n",
    "            invert_image = invert(imported_image)\n",
    "\n",
    "            #savig the adjusted images image using OpenCV. Image name has the finction done to it added to the front\n",
    "            cv2.imwrite(path + category + '/' + 'bright_' + file, bright_img)\n",
    "            cv2.imwrite(path + category + '/' + 'flip_' + file, flip_img)\n",
    "            cv2.imwrite(path + category + '/' + 'invert_' + file, invert_image)\n",
    "        \n",
    "        # printing out the folders competed to keep track of function progress\n",
    "        print(f'{category} done')\n",
    "        \n",
    "    return\n"
   ]
  },
  {
   "cell_type": "code",
   "execution_count": 12,
   "metadata": {},
   "outputs": [
    {
     "name": "stdout",
     "output_type": "stream",
     "text": [
      "category_1 done\n",
      "category_2 done\n"
     ]
    }
   ],
   "source": [
    "category_cropped_images_augmentation(path_to_images)"
   ]
  },
  {
   "cell_type": "markdown",
   "metadata": {},
   "source": [
    "### Get Brightened, Flipped, and Inverted Images for one image"
   ]
  },
  {
   "cell_type": "code",
   "execution_count": 7,
   "metadata": {},
   "outputs": [],
   "source": [
    "img = cv2.imread('C:/Users/Erik/Desktop/add_photos/bootstrapping/category_1/cropped_Toy vehicle4_add_flood_ (64).jpg')\n",
    "\n",
    "#augmenting images in OpenCV\n",
    "#inspiration from https://towardsdatascience.com/complete-image-augmentation-in-opencv-31a6b02694f5\n",
    "\n",
    "#changing the brighness of the image - \n",
    "def brightness(img, value):\n",
    "\n",
    "    # coverts the image to Hue,saturation,brighness values (h,s,v)\n",
    "    hsv = cv2.cvtColor(img, cv2.COLOR_BGR2HSV)\n",
    "    hsv = np.array(hsv, dtype = np.float64)\n",
    "    \n",
    "    #adjusts the hsv vales by the amount of change specified in the function\n",
    "    hsv[:,:,1] = hsv[:,:,1]*value\n",
    "    \n",
    "    # catches the max and sets to 255\n",
    "    hsv[:,:,1][hsv[:,:,1]>255]  = 255\n",
    "    hsv[:,:,2] = hsv[:,:,2]*value \n",
    "    hsv[:,:,2][hsv[:,:,2]>255]  = 255\n",
    "    hsv = np.array(hsv, dtype = np.uint8)\n",
    "    \n",
    "    #taking the new hsv values and changing it back to Red,Green,Blue image\n",
    "    img = cv2.cvtColor(hsv, cv2.COLOR_HSV2BGR)\n",
    "    return img\n",
    "\n",
    "# Flipping the image horizontally\n",
    "def flip_horizontal(img):\n",
    "    return cv2.flip(img , 1)\n",
    "\n",
    "#inverting the color of the image\n",
    "def invert(img):\n",
    "    return cv2.bitwise_not(img)\n",
    "\n",
    "img_b = brightness(img, 2)\n",
    "img_f = flip_horizontal(img)\n",
    "img_inv = invert(img)\n",
    "cv2.imshow('Result', img_b)\n",
    "cv2.imshow('Result', img_f)\n",
    "cv2.imshow('Result', img_inv)\n",
    "cv2.waitKey(0)\n",
    "cv2.destroyAllWindows()"
   ]
  },
  {
   "cell_type": "code",
   "execution_count": null,
   "metadata": {},
   "outputs": [],
   "source": []
  }
 ],
 "metadata": {
  "kernelspec": {
   "display_name": "Python 3",
   "language": "python",
   "name": "python3"
  },
  "language_info": {
   "codemirror_mode": {
    "name": "ipython",
    "version": 3
   },
   "file_extension": ".py",
   "mimetype": "text/x-python",
   "name": "python",
   "nbconvert_exporter": "python",
   "pygments_lexer": "ipython3",
   "version": "3.7.7"
  }
 },
 "nbformat": 4,
 "nbformat_minor": 4
}
